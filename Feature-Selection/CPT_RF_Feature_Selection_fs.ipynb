{
  "nbformat": 4,
  "nbformat_minor": 0,
  "metadata": {
    "colab": {
      "name": "CPT_RF_Feature_Selection-fs.ipynb",
      "provenance": [],
      "collapsed_sections": []
    },
    "kernelspec": {
      "name": "python3",
      "display_name": "Python 3"
    },
    "language_info": {
      "name": "python"
    }
  },
  "cells": [
    {
      "cell_type": "code",
      "metadata": {
        "id": "KIaRWeuXTR8H"
      },
      "source": [
        "\"\"\"\n",
        "ResNet Trial\n",
        "Global Feature Selection \n",
        "    - X = 'Depth (m)','iso_classes_encoded', 'Oberhollenzer_classes', \n",
        "    'σ,v (kPa)', 'σ',v (kPa)'.\n",
        "    \n",
        "    - Y = 'qc (MPa)','fs (kPa)'.\n",
        "\n",
        "Link: https://github.com/DowellChan/ResNetRegression\n",
        "\"\"\"\n",
        "#General Imports\n",
        "import pandas as pd\n",
        "import numpy as np\n",
        "import matplotlib.pyplot as plt\n",
        "import tensorflow as tf\n",
        "from tensorflow import keras\n",
        "from tensorflow.keras import layers\n",
        "from sklearn.preprocessing import StandardScaler, MinMaxScaler\n",
        "from sklearn.metrics import mean_squared_error, r2_score, mean_absolute_error, mean_squared_log_error\n",
        "from keras.models import Sequential\n",
        "from keras.layers import Dense, Dropout\n",
        "from keras.callbacks import EarlyStopping, ModelCheckpoint, LearningRateScheduler, CSVLogger\n",
        "from sklearn.model_selection import train_test_split\n",
        "import time\n",
        "\n",
        "'''\n",
        "PreProcessing\n",
        "''' \n",
        "#Loading Database\n",
        "df_cpt=pd.read_csv(r'/content/drive/MyDrive/Colab Notebooks/Target_Encoded_Database.csv')\n",
        "\n",
        "#Dropping zeros from qc\n",
        "df_cpt = df_cpt[~(df_cpt[['qc (MPa)']] == 0).any(axis = 1)]\n",
        "df_cpt = df_cpt[~(df_cpt[['qc (MPa)']] < 0).any(axis = 1)]\n",
        "df_cpt = df_cpt[~(df_cpt[['SBT (-)']] == 0).any(axis = 1)]\n",
        "df_cpt = df_cpt[~(df_cpt[['SBTn (-)']] == 0).any(axis = 1)]\n",
        "df_cpt = df_cpt[~(df_cpt[['Mod. SBTn (-)']] == 0).any(axis = 1)]\n",
        "\n",
        "#Transforming to DataFrame\n",
        "df_cpt=pd.DataFrame(df_cpt)\n",
        "df_cpt=df_cpt.drop(columns = 'Unnamed: 0')\n",
        "\n",
        "#Defining X an y\n",
        "X_x=df_cpt[['Depth (m)', 'σ,v (kPa)', \"σ',v (kPa)\", 'SBT (-)', 'SBTn (-)', \n",
        "            'Mod. SBTn (-)', 'iso_classes_encoded', 'Oberhollenzer_classes']].values\n",
        "\n",
        "y_y=df_cpt[['fs (kPa)']].values\n",
        "\n",
        "#Features\n",
        "features=df_cpt[['Depth (m)', 'σ,v (kPa)', \"σ',v (kPa)\", 'SBT (-)', 'SBTn (-)', \n",
        "            'Mod. SBTn (-)', 'iso_classes_encoded', 'Oberhollenzer_classes']].columns\n",
        "\n",
        "#Scaling the and preparing the data\n",
        "scalerX=MinMaxScaler()\n",
        "scalerY=MinMaxScaler()\n",
        "\n",
        "#Scaling the Data\n",
        "X=scalerX.fit_transform(X_x)\n",
        "y=scalerY.fit_transform(y_y)"
      ],
      "execution_count": null,
      "outputs": []
    },
    {
      "cell_type": "code",
      "metadata": {
        "id": "YZ5ENXZ1TwhG"
      },
      "source": [
        "'''Random Forest Importance'''\n",
        "from sklearn.ensemble import RandomForestRegressor\n",
        "from sklearn.feature_selection import RFECV, RFE\n",
        "\n",
        "rfc = RandomForestRegressor(n_estimators = 100, n_jobs = -1, random_state = 42)\n",
        "rfecv = RFECV(estimator = rfc, step=1, min_features_to_select = 8, scoring = 'r2')\n",
        "rfecv.fit(X, y.ravel())\n",
        "rf_importances = rfecv.estimator_.feature_importances_"
      ],
      "execution_count": null,
      "outputs": []
    },
    {
      "cell_type": "code",
      "metadata": {
        "id": "KYWL5dGyT5gl",
        "colab": {
          "base_uri": "https://localhost:8080/",
          "height": 458
        },
        "outputId": "b59650b1-9c77-4123-8de6-20cd34dcd31e"
      },
      "source": [
        "'''\n",
        "Plotting\n",
        "'''\n",
        "#Def plot for RandomForest\n",
        "def plot_importance_RandomForest(importances):\n",
        "    indices=np.argsort(importances)\n",
        "    plt.figure(figsize=(15, 7))\n",
        "    #plt.title('RandomForest Feature Importances')\n",
        "    plt.barh(range(len(indices)), importances[indices], color='crimson', align='center')\n",
        "    plt.yticks(range(len(indices)), [features[i] for i in indices])\n",
        "    plt.xlabel('Relative Importance')\n",
        "    plt.savefig('RandomForest_Features_3-fs.png', dpi=600)\n",
        "    plt.show()\n",
        "\n",
        "#Plotting RandomForest\n",
        "print('Random_Forest')\n",
        "plot_importance_RandomForest(rf_importances)"
      ],
      "execution_count": null,
      "outputs": [
        {
          "output_type": "stream",
          "name": "stdout",
          "text": [
            "Random_Forest\n"
          ]
        },
        {
          "output_type": "display_data",
          "data": {
            "image/png": "[encoded data removed]",
            "text/plain": [
              "<Figure size 1080x504 with 1 Axes>"
            ]
          },
          "metadata": {
            "needs_background": "light"
          }
        }
      ]
    }
  ]
}